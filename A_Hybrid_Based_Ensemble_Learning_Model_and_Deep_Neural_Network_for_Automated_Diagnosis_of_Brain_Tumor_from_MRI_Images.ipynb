{
  "nbformat": 4,
  "nbformat_minor": 0,
  "metadata": {
    "colab": {
      "name": "A Hybrid Based Ensemble Learning Model and Deep Neural Network  for Automated Diagnosis of Brain Tumor from MRI Images",
      "provenance": [],
      "collapsed_sections": [],
      "include_colab_link": true
    },
    "kernelspec": {
      "display_name": "Python 3",
      "name": "python3"
    },
    "accelerator": "GPU"
  },
  "cells": [
    {
      "cell_type": "markdown",
      "metadata": {
        "id": "view-in-github",
        "colab_type": "text"
      },
      "source": [
        "<a href=\"https://colab.research.google.com/github/BasraQasba/Machine-Learning/blob/main/A_Hybrid_Based_Ensemble_Learning_Model_and_Deep_Neural_Network_for_Automated_Diagnosis_of_Brain_Tumor_from_MRI_Images.ipynb\" target=\"_parent\"><img src=\"https://colab.research.google.com/assets/colab-badge.svg\" alt=\"Open In Colab\"/></a>"
      ]
    },
    {
      "cell_type": "code",
      "metadata": {
        "id": "0OFRakeEhi9b",
        "colab": {
          "base_uri": "https://localhost:8080/"
        },
        "outputId": "ec83527e-2223-49e3-dd72-705cd3e67bef"
      },
      "source": [
        "from google.colab import drive\n",
        "drive.mount('/content/drive')"
      ],
      "execution_count": null,
      "outputs": [
        {
          "output_type": "stream",
          "text": [
            "Mounted at /content/drive\n"
          ],
          "name": "stdout"
        }
      ]
    },
    {
      "cell_type": "code",
      "metadata": {
        "id": "LP3Fr-T5NyBX",
        "colab": {
          "base_uri": "https://localhost:8080/",
          "height": 35
        },
        "outputId": "963e7897-f4d1-4c71-c1d4-789b6f2c6d54"
      },
      "source": [
        "import tensorflow as tf\n",
        "tf.test.gpu_device_name()"
      ],
      "execution_count": null,
      "outputs": [
        {
          "output_type": "execute_result",
          "data": {
            "application/vnd.google.colaboratory.intrinsic+json": {
              "type": "string"
            },
            "text/plain": [
              "'/device:GPU:0'"
            ]
          },
          "metadata": {
            "tags": []
          },
          "execution_count": 2
        }
      ]
    },
    {
      "cell_type": "code",
      "metadata": {
        "id": "O8fB6b3Shy1h",
        "colab": {
          "base_uri": "https://localhost:8080/"
        },
        "outputId": "f94f4f36-2a5d-4807-bc92-06f02b86d096"
      },
      "source": [
        "import os\n",
        "os.listdir('/content/drive/MyDrive/COVID-19')"
      ],
      "execution_count": null,
      "outputs": [
        {
          "output_type": "execute_result",
          "data": {
            "text/plain": [
              "['no_tumor', 'meningioma_tumor', 'pituitary_tumor', 'glioma_tumor']"
            ]
          },
          "metadata": {
            "tags": []
          },
          "execution_count": 3
        }
      ]
    },
    {
      "cell_type": "code",
      "metadata": {
        "id": "lnUdtNuykdzq"
      },
      "source": [
        "class0=('/content/drive/MyDrive/archive1/Testing/glioma_tumor')\n",
        "class1=('/content/drive/MyDrive/archive1/Testing/meningioma_tumor')\n",
        "class2=('/content/drive/MyDrive/archive1/Testing/pituitary_tumor')\n",
        "class3=('/content/drive/MyDrive/archive1/Testing/no_tumor')"
      ],
      "execution_count": null,
      "outputs": []
    },
    {
      "cell_type": "markdown",
      "metadata": {
        "id": "HOJ93dw_-CJX"
      },
      "source": [
        "Preprocessing:"
      ]
    },
    {
      "cell_type": "code",
      "metadata": {
        "id": "meEo8BYBmE5R",
        "colab": {
          "base_uri": "https://localhost:8080/"
        },
        "outputId": "69655589-f2e6-4bb1-92e4-889e1a1e1450"
      },
      "source": [
        "import cv2\n",
        "from tqdm import tqdm\n",
        "features = []\n",
        "\n",
        "for img in tqdm(os.listdir(class0)):\n",
        "    f = cv2.imread(os.path.join(class0,img))\n",
        "    fr = cv2.resize(f,(70,70))\n",
        "    features.append(fr)\n",
        "\n",
        "for img in tqdm(os.listdir(class1)):\n",
        "    f = cv2.imread(os.path.join(class1,img))\n",
        "    fr = cv2.resize(f,(70,70))\n",
        "    features.append(fr)\n",
        "\n",
        "for img in tqdm(os.listdir(class2)):\n",
        "    f = cv2.imread(os.path.join(class2,img))\n",
        "    fr = cv2.resize(f,(70,70))\n",
        "    features.append(fr)\n",
        "\n",
        "for img in tqdm(os.listdir(class3)):\n",
        "    f = cv2.imread(os.path.join(class3,img))\n",
        "    fr = cv2.resize(f,(70,70))\n",
        "    features.append(fr)"
      ],
      "execution_count": null,
      "outputs": [
        {
          "output_type": "stream",
          "text": [
            "100%|██████████| 926/926 [04:50<00:00,  3.19it/s]\n",
            "100%|██████████| 937/937 [04:48<00:00,  3.25it/s]\n",
            "100%|██████████| 901/901 [04:40<00:00,  3.22it/s]\n",
            "100%|██████████| 396/396 [02:05<00:00,  3.15it/s]\n"
          ],
          "name": "stderr"
        }
      ]
    },
    {
      "cell_type": "markdown",
      "metadata": {
        "id": "dNy9X1Gmrn6j"
      },
      "source": [
        "Define Label Matrix"
      ]
    },
    {
      "cell_type": "code",
      "metadata": {
        "id": "JhJcOD8mrnIW",
        "colab": {
          "base_uri": "https://localhost:8080/"
        },
        "outputId": "bde322f1-6314-4242-a45e-20a1fd61eebf"
      },
      "source": [
        "labels = []\n",
        "for img in tqdm(os.listdir(class0)):\n",
        "    labels.append(0)\n",
        "for img in tqdm(os.listdir(class1)):\n",
        "    labels.append(1)\n",
        "for img in tqdm(os.listdir(class2)):\n",
        "    labels.append(2)\n",
        "for img in tqdm(os.listdir(class3)):\n",
        "    labels.append(3)"
      ],
      "execution_count": null,
      "outputs": [
        {
          "output_type": "stream",
          "text": [
            "100%|██████████| 926/926 [00:00<00:00, 1864582.58it/s]\n",
            "100%|██████████| 937/937 [00:00<00:00, 1955255.15it/s]\n",
            "100%|██████████| 901/901 [00:00<00:00, 424996.39it/s]\n",
            "100%|██████████| 396/396 [00:00<00:00, 1235821.71it/s]\n"
          ],
          "name": "stderr"
        }
      ]
    },
    {
      "cell_type": "markdown",
      "metadata": {
        "id": "RSUce07WsWbm"
      },
      "source": [
        "Features and Labels Numpy array"
      ]
    },
    {
      "cell_type": "code",
      "metadata": {
        "id": "IqCQBU99sQpg"
      },
      "source": [
        "import numpy as np\n",
        "X= np.array(features)\n",
        "Y= np.array(labels)"
      ],
      "execution_count": null,
      "outputs": []
    },
    {
      "cell_type": "code",
      "metadata": {
        "id": "LwCDi2dPsp5O",
        "colab": {
          "base_uri": "https://localhost:8080/"
        },
        "outputId": "088bc23f-1b31-4a04-ee2f-01a691487b87"
      },
      "source": [
        "print(X.shape[1:])\n",
        "print(Y.shape)"
      ],
      "execution_count": null,
      "outputs": [
        {
          "output_type": "stream",
          "text": [
            "(70, 70, 3)\n",
            "(3160,)\n"
          ],
          "name": "stdout"
        }
      ]
    },
    {
      "cell_type": "code",
      "metadata": {
        "id": "Dv1fOeRTs_IT"
      },
      "source": [
        "import keras\n",
        "from keras.models import Model, Sequential\n",
        "from keras.utils import np_utils\n",
        "from keras.layers import Dense,Dropout,Activation,Flatten,BatchNormalization\n",
        "from keras.layers import Conv2D,MaxPooling2D\n",
        "from keras import regularizers"
      ],
      "execution_count": null,
      "outputs": []
    },
    {
      "cell_type": "markdown",
      "metadata": {
        "id": "qBwTGwNHKOGr"
      },
      "source": [
        "CNN model"
      ]
    },
    {
      "cell_type": "markdown",
      "metadata": {
        "id": "U15LGXi6KWIT"
      },
      "source": [
        "First Convolution layer"
      ]
    },
    {
      "cell_type": "code",
      "metadata": {
        "id": "-aEdyMlCKTHe"
      },
      "source": [
        "\n",
        "weight_decay = 1e-4\n",
        "feature_extractor = Sequential()\n",
        "feature_extractor.add(Conv2D(32,(3,3),padding='same',kernel_regularizer=regularizers.l2(weight_decay) ,input_shape=X.shape[1:]))\n",
        "feature_extractor.add(Activation('relu'))\n",
        "feature_extractor.add(BatchNormalization())\n",
        "feature_extractor.add(MaxPooling2D(pool_size=(2,2)))\n",
        "feature_extractor.add(Dropout(0.4))"
      ],
      "execution_count": null,
      "outputs": []
    },
    {
      "cell_type": "markdown",
      "metadata": {
        "id": "pvxHvxTzKo6_"
      },
      "source": [
        "Second Convolutional layer"
      ]
    },
    {
      "cell_type": "code",
      "metadata": {
        "id": "t2a0hf1vKsd5"
      },
      "source": [
        "feature_extractor.add(Conv2D(64,(3,3), kernel_regularizer=regularizers.l2(weight_decay) , padding='same'))\n",
        "feature_extractor.add(Activation('relu'))\n",
        "feature_extractor.add(BatchNormalization())\n",
        "feature_extractor.add(MaxPooling2D(pool_size=(2,2)))\n",
        "feature_extractor.add(Dropout(0.3))"
      ],
      "execution_count": null,
      "outputs": []
    },
    {
      "cell_type": "markdown",
      "metadata": {
        "id": "mPGWYVhFK0i2"
      },
      "source": [
        "Third Convolutional Layer"
      ]
    },
    {
      "cell_type": "code",
      "metadata": {
        "id": "xxwcuvwtK3QW"
      },
      "source": [
        "feature_extractor.add(Conv2D(128,(3,3), kernel_regularizer=regularizers.l2(weight_decay) , padding='same'))\n",
        "feature_extractor.add(Activation('relu'))\n",
        "feature_extractor.add(BatchNormalization())\n",
        "feature_extractor.add(MaxPooling2D(pool_size=(2,2)))\n",
        "feature_extractor.add(Dropout(0.4))"
      ],
      "execution_count": null,
      "outputs": []
    },
    {
      "cell_type": "markdown",
      "metadata": {
        "id": "6KNPvYKjLDVJ"
      },
      "source": [
        "Fourth Convolutional layer"
      ]
    },
    {
      "cell_type": "code",
      "metadata": {
        "id": "n5EbdzKdK_Ci"
      },
      "source": [
        "feature_extractor.add(Conv2D(256,(3,3), kernel_regularizer=regularizers.l2(weight_decay) , padding='same'))\n",
        "feature_extractor.add(Activation('relu'))\n",
        "feature_extractor.add(BatchNormalization())\n",
        "feature_extractor.add(MaxPooling2D(pool_size=(2,2)))\n",
        "feature_extractor.add(Dropout(0.3))"
      ],
      "execution_count": null,
      "outputs": []
    },
    {
      "cell_type": "markdown",
      "metadata": {
        "id": "8MfB_nLOLTDJ"
      },
      "source": [
        "Fifth Convolutional layer"
      ]
    },
    {
      "cell_type": "code",
      "metadata": {
        "id": "2Dj5_CSvLSdQ"
      },
      "source": [
        "feature_extractor.add(Conv2D(512,(3,3), kernel_regularizer=regularizers.l2(weight_decay) , padding='same'))\n",
        "feature_extractor.add(Activation('relu'))\n",
        "feature_extractor.add(BatchNormalization())\n",
        "feature_extractor.add(MaxPooling2D(pool_size=(2,2)))\n",
        "feature_extractor.add(Dropout(0.4))"
      ],
      "execution_count": null,
      "outputs": []
    },
    {
      "cell_type": "markdown",
      "metadata": {
        "id": "7p6xPzYuLYf2"
      },
      "source": [
        "Sixth Convolutional Layer"
      ]
    },
    {
      "cell_type": "code",
      "metadata": {
        "id": "e4yxEgC7LKoS"
      },
      "source": [
        "feature_extractor.add(Conv2D(1024,(3,3), kernel_regularizer=regularizers.l2(weight_decay) , padding='same'))\n",
        "feature_extractor.add(Activation('relu'))\n",
        "feature_extractor.add(BatchNormalization())\n",
        "feature_extractor.add(MaxPooling2D(pool_size=(2,2)))\n",
        "feature_extractor.add(Dropout(0.3))"
      ],
      "execution_count": null,
      "outputs": []
    },
    {
      "cell_type": "markdown",
      "metadata": {
        "id": "-RZuiPg7qFYy"
      },
      "source": [
        "Flatten:"
      ]
    },
    {
      "cell_type": "code",
      "metadata": {
        "id": "XiJcQJ_XqE78"
      },
      "source": [
        "feature_extractor.add(Flatten())"
      ],
      "execution_count": null,
      "outputs": []
    },
    {
      "cell_type": "markdown",
      "metadata": {
        "id": "XJelVFl-Lsb3"
      },
      "source": [
        "Fully Connected Layer"
      ]
    },
    {
      "cell_type": "code",
      "metadata": {
        "id": "RT-lg3rOLffV"
      },
      "source": [
        "x = feature_extractor.output\n",
        "x = Dense(32,activation='relu')(x)\n",
        "prediction_layer = (Dense(4,activation='softmax'))(x)"
      ],
      "execution_count": null,
      "outputs": []
    },
    {
      "cell_type": "markdown",
      "metadata": {
        "id": "C4QEz3W7rl-o"
      },
      "source": [
        "Making new Model by combining feature extractor and x"
      ]
    },
    {
      "cell_type": "code",
      "metadata": {
        "id": "2TgfFiqCLxcE",
        "colab": {
          "base_uri": "https://localhost:8080/"
        },
        "outputId": "c6bf1485-5ff3-4320-bc1f-1156fec0e045"
      },
      "source": [
        "cnn_model = Model(inputs=feature_extractor.input, outputs=prediction_layer)\n",
        "cnn_model.summary()"
      ],
      "execution_count": null,
      "outputs": [
        {
          "output_type": "stream",
          "text": [
            "Model: \"model\"\n",
            "_________________________________________________________________\n",
            "Layer (type)                 Output Shape              Param #   \n",
            "=================================================================\n",
            "conv2d_input (InputLayer)    [(None, 70, 70, 3)]       0         \n",
            "_________________________________________________________________\n",
            "conv2d (Conv2D)              (None, 70, 70, 32)        896       \n",
            "_________________________________________________________________\n",
            "activation (Activation)      (None, 70, 70, 32)        0         \n",
            "_________________________________________________________________\n",
            "batch_normalization (BatchNo (None, 70, 70, 32)        128       \n",
            "_________________________________________________________________\n",
            "max_pooling2d (MaxPooling2D) (None, 35, 35, 32)        0         \n",
            "_________________________________________________________________\n",
            "dropout (Dropout)            (None, 35, 35, 32)        0         \n",
            "_________________________________________________________________\n",
            "conv2d_1 (Conv2D)            (None, 35, 35, 64)        18496     \n",
            "_________________________________________________________________\n",
            "activation_1 (Activation)    (None, 35, 35, 64)        0         \n",
            "_________________________________________________________________\n",
            "batch_normalization_1 (Batch (None, 35, 35, 64)        256       \n",
            "_________________________________________________________________\n",
            "max_pooling2d_1 (MaxPooling2 (None, 17, 17, 64)        0         \n",
            "_________________________________________________________________\n",
            "dropout_1 (Dropout)          (None, 17, 17, 64)        0         \n",
            "_________________________________________________________________\n",
            "conv2d_2 (Conv2D)            (None, 17, 17, 128)       73856     \n",
            "_________________________________________________________________\n",
            "activation_2 (Activation)    (None, 17, 17, 128)       0         \n",
            "_________________________________________________________________\n",
            "batch_normalization_2 (Batch (None, 17, 17, 128)       512       \n",
            "_________________________________________________________________\n",
            "max_pooling2d_2 (MaxPooling2 (None, 8, 8, 128)         0         \n",
            "_________________________________________________________________\n",
            "dropout_2 (Dropout)          (None, 8, 8, 128)         0         \n",
            "_________________________________________________________________\n",
            "conv2d_3 (Conv2D)            (None, 8, 8, 256)         295168    \n",
            "_________________________________________________________________\n",
            "activation_3 (Activation)    (None, 8, 8, 256)         0         \n",
            "_________________________________________________________________\n",
            "batch_normalization_3 (Batch (None, 8, 8, 256)         1024      \n",
            "_________________________________________________________________\n",
            "max_pooling2d_3 (MaxPooling2 (None, 4, 4, 256)         0         \n",
            "_________________________________________________________________\n",
            "dropout_3 (Dropout)          (None, 4, 4, 256)         0         \n",
            "_________________________________________________________________\n",
            "conv2d_4 (Conv2D)            (None, 4, 4, 512)         1180160   \n",
            "_________________________________________________________________\n",
            "activation_4 (Activation)    (None, 4, 4, 512)         0         \n",
            "_________________________________________________________________\n",
            "batch_normalization_4 (Batch (None, 4, 4, 512)         2048      \n",
            "_________________________________________________________________\n",
            "max_pooling2d_4 (MaxPooling2 (None, 2, 2, 512)         0         \n",
            "_________________________________________________________________\n",
            "dropout_4 (Dropout)          (None, 2, 2, 512)         0         \n",
            "_________________________________________________________________\n",
            "conv2d_5 (Conv2D)            (None, 2, 2, 1024)        4719616   \n",
            "_________________________________________________________________\n",
            "activation_5 (Activation)    (None, 2, 2, 1024)        0         \n",
            "_________________________________________________________________\n",
            "batch_normalization_5 (Batch (None, 2, 2, 1024)        4096      \n",
            "_________________________________________________________________\n",
            "max_pooling2d_5 (MaxPooling2 (None, 1, 1, 1024)        0         \n",
            "_________________________________________________________________\n",
            "dropout_5 (Dropout)          (None, 1, 1, 1024)        0         \n",
            "_________________________________________________________________\n",
            "flatten (Flatten)            (None, 1024)              0         \n",
            "_________________________________________________________________\n",
            "dense (Dense)                (None, 32)                32800     \n",
            "_________________________________________________________________\n",
            "dense_1 (Dense)              (None, 4)                 132       \n",
            "=================================================================\n",
            "Total params: 6,329,188\n",
            "Trainable params: 6,325,156\n",
            "Non-trainable params: 4,032\n",
            "_________________________________________________________________\n"
          ],
          "name": "stdout"
        }
      ]
    },
    {
      "cell_type": "markdown",
      "metadata": {
        "id": "6jUtEYKbbQ4k"
      },
      "source": [
        "Adding optimiser "
      ]
    },
    {
      "cell_type": "code",
      "metadata": {
        "id": "2CRT8aVRbQU2"
      },
      "source": [
        "from keras import optimizers\n",
        "from keras import metrics\n",
        "\n",
        "sgd = optimizers.SGD(0.1)\n",
        "\n",
        "cnn_model.compile(optimizer=sgd,\n",
        "             loss = 'binary_crossentropy',\n",
        "             metrics=['accuracy'])"
      ],
      "execution_count": null,
      "outputs": []
    },
    {
      "cell_type": "markdown",
      "metadata": {
        "id": "Zl-yL_yrbsv6"
      },
      "source": [
        "#Divide the data into training and testing sets\n",
        "#normalise the input data value\n",
        "#One - hot encoding of labels\n",
        "#fit the features and labels into model to train"
      ]
    },
    {
      "cell_type": "code",
      "metadata": {
        "id": "6j8dubjrbsbZ"
      },
      "source": [
        "from sklearn.model_selection import train_test_split\n",
        "xtrain,xtest,ytrain,ytest = train_test_split(X,Y,train_size=0.8)"
      ],
      "execution_count": null,
      "outputs": []
    },
    {
      "cell_type": "code",
      "metadata": {
        "id": "s7r00RHsQBT_"
      },
      "source": [
        "x_train,x_val,y_train,y_val = train_test_split(xtrain,ytrain,train_size=0.75)"
      ],
      "execution_count": null,
      "outputs": []
    },
    {
      "cell_type": "markdown",
      "metadata": {
        "id": "fVi5qnVhYCSV"
      },
      "source": [
        "Normalise"
      ]
    },
    {
      "cell_type": "code",
      "metadata": {
        "id": "8bTu1PbiMAaA"
      },
      "source": [
        "x_train_n = x_train/x_train.max()\n",
        "xval_n = x_val/x_val.max()\n",
        "xtest_n=xtest/xtest.max()"
      ],
      "execution_count": null,
      "outputs": []
    },
    {
      "cell_type": "markdown",
      "metadata": {
        "id": "A99laNDXfeZ9"
      },
      "source": [
        "One hot encoding for y labels foe neural networks"
      ]
    },
    {
      "cell_type": "code",
      "metadata": {
        "id": "Vi4Q2nRkb4FQ"
      },
      "source": [
        "y_train_h = np_utils.to_categorical(y_train)\n",
        "yval_h = np_utils.to_categorical(y_val)\n",
        "ytest_h = np_utils.to_categorical(ytest)"
      ],
      "execution_count": null,
      "outputs": []
    },
    {
      "cell_type": "markdown",
      "metadata": {
        "id": "fYvm-cUciNB6"
      },
      "source": [
        "Running the model over our data:"
      ]
    },
    {
      "cell_type": "code",
      "metadata": {
        "id": "LHRwI7bFb8Fs",
        "colab": {
          "base_uri": "https://localhost:8080/"
        },
        "outputId": "278831ec-38bd-4f92-cab5-684d9cc9617a"
      },
      "source": [
        "cnn_model.fit(x_train_n,y_train_h,\n",
        "         epochs=60,\n",
        "         validation_data=(xval_n,yval_h))"
      ],
      "execution_count": null,
      "outputs": [
        {
          "output_type": "stream",
          "text": [
            "Epoch 1/60\n",
            "60/60 [==============================] - 1s 22ms/step - loss: 0.1856 - accuracy: 0.9699 - val_loss: 0.3634 - val_accuracy: 0.8845\n",
            "Epoch 2/60\n",
            "60/60 [==============================] - 1s 20ms/step - loss: 0.1909 - accuracy: 0.9662 - val_loss: 0.3922 - val_accuracy: 0.8750\n",
            "Epoch 3/60\n",
            "60/60 [==============================] - 1s 20ms/step - loss: 0.1905 - accuracy: 0.9641 - val_loss: 0.3922 - val_accuracy: 0.8892\n",
            "Epoch 4/60\n",
            "60/60 [==============================] - 1s 19ms/step - loss: 0.1861 - accuracy: 0.9710 - val_loss: 0.5540 - val_accuracy: 0.8291\n",
            "Epoch 5/60\n",
            "60/60 [==============================] - 1s 19ms/step - loss: 0.1949 - accuracy: 0.9620 - val_loss: 0.7890 - val_accuracy: 0.7389\n",
            "Epoch 6/60\n",
            "60/60 [==============================] - 1s 19ms/step - loss: 0.1857 - accuracy: 0.9662 - val_loss: 0.7046 - val_accuracy: 0.7547\n",
            "Epoch 7/60\n",
            "60/60 [==============================] - 1s 20ms/step - loss: 0.1784 - accuracy: 0.9731 - val_loss: 0.4521 - val_accuracy: 0.8339\n",
            "Epoch 8/60\n",
            "60/60 [==============================] - 1s 20ms/step - loss: 0.1892 - accuracy: 0.9689 - val_loss: 0.6435 - val_accuracy: 0.7848\n",
            "Epoch 9/60\n",
            "60/60 [==============================] - 1s 20ms/step - loss: 0.1801 - accuracy: 0.9778 - val_loss: 0.4042 - val_accuracy: 0.8940\n",
            "Epoch 10/60\n",
            "60/60 [==============================] - 1s 20ms/step - loss: 0.1795 - accuracy: 0.9757 - val_loss: 1.6484 - val_accuracy: 0.5981\n",
            "Epoch 11/60\n",
            "60/60 [==============================] - 1s 20ms/step - loss: 0.1752 - accuracy: 0.9810 - val_loss: 0.7336 - val_accuracy: 0.7532\n",
            "Epoch 12/60\n",
            "60/60 [==============================] - 1s 20ms/step - loss: 0.1809 - accuracy: 0.9736 - val_loss: 0.7219 - val_accuracy: 0.7547\n",
            "Epoch 13/60\n",
            "60/60 [==============================] - 1s 20ms/step - loss: 0.1840 - accuracy: 0.9705 - val_loss: 0.5421 - val_accuracy: 0.7880\n",
            "Epoch 14/60\n",
            "60/60 [==============================] - 1s 19ms/step - loss: 0.1794 - accuracy: 0.9731 - val_loss: 0.8370 - val_accuracy: 0.7073\n",
            "Epoch 15/60\n",
            "60/60 [==============================] - 1s 19ms/step - loss: 0.1758 - accuracy: 0.9773 - val_loss: 0.5206 - val_accuracy: 0.8275\n",
            "Epoch 16/60\n",
            "60/60 [==============================] - 1s 19ms/step - loss: 0.1816 - accuracy: 0.9705 - val_loss: 0.7335 - val_accuracy: 0.7532\n",
            "Epoch 17/60\n",
            "60/60 [==============================] - 1s 20ms/step - loss: 0.2047 - accuracy: 0.9589 - val_loss: 0.3662 - val_accuracy: 0.8813\n",
            "Epoch 18/60\n",
            "60/60 [==============================] - 1s 19ms/step - loss: 0.1771 - accuracy: 0.9773 - val_loss: 0.3462 - val_accuracy: 0.9035\n",
            "Epoch 19/60\n",
            "60/60 [==============================] - 1s 20ms/step - loss: 0.1696 - accuracy: 0.9805 - val_loss: 0.3413 - val_accuracy: 0.9177\n",
            "Epoch 20/60\n",
            "60/60 [==============================] - 1s 19ms/step - loss: 0.1660 - accuracy: 0.9826 - val_loss: 0.3735 - val_accuracy: 0.8972\n",
            "Epoch 21/60\n",
            "60/60 [==============================] - 1s 20ms/step - loss: 0.1685 - accuracy: 0.9826 - val_loss: 0.3675 - val_accuracy: 0.8861\n",
            "Epoch 22/60\n",
            "60/60 [==============================] - 1s 20ms/step - loss: 0.1675 - accuracy: 0.9800 - val_loss: 0.3753 - val_accuracy: 0.8940\n",
            "Epoch 23/60\n",
            "60/60 [==============================] - 1s 20ms/step - loss: 0.1632 - accuracy: 0.9847 - val_loss: 0.7951 - val_accuracy: 0.7373\n",
            "Epoch 24/60\n",
            "60/60 [==============================] - 1s 19ms/step - loss: 0.1635 - accuracy: 0.9847 - val_loss: 0.3855 - val_accuracy: 0.9003\n",
            "Epoch 25/60\n",
            "60/60 [==============================] - 1s 20ms/step - loss: 0.1687 - accuracy: 0.9810 - val_loss: 0.5986 - val_accuracy: 0.7975\n",
            "Epoch 26/60\n",
            "60/60 [==============================] - 1s 20ms/step - loss: 0.1743 - accuracy: 0.9789 - val_loss: 0.3546 - val_accuracy: 0.9146\n",
            "Epoch 27/60\n",
            "60/60 [==============================] - 1s 20ms/step - loss: 0.1759 - accuracy: 0.9763 - val_loss: 0.3623 - val_accuracy: 0.9066\n",
            "Epoch 28/60\n",
            "60/60 [==============================] - 1s 19ms/step - loss: 0.1746 - accuracy: 0.9778 - val_loss: 0.6928 - val_accuracy: 0.7563\n",
            "Epoch 29/60\n",
            "60/60 [==============================] - 1s 19ms/step - loss: 0.1684 - accuracy: 0.9789 - val_loss: 0.3566 - val_accuracy: 0.9177\n",
            "Epoch 30/60\n",
            "60/60 [==============================] - 1s 21ms/step - loss: 0.1690 - accuracy: 0.9789 - val_loss: 0.3961 - val_accuracy: 0.9003\n",
            "Epoch 31/60\n",
            "60/60 [==============================] - 1s 19ms/step - loss: 0.1675 - accuracy: 0.9826 - val_loss: 0.5729 - val_accuracy: 0.8085\n",
            "Epoch 32/60\n",
            "60/60 [==============================] - 1s 19ms/step - loss: 0.1698 - accuracy: 0.9773 - val_loss: 0.9887 - val_accuracy: 0.7025\n",
            "Epoch 33/60\n",
            "60/60 [==============================] - 1s 19ms/step - loss: 0.1738 - accuracy: 0.9757 - val_loss: 0.3344 - val_accuracy: 0.9130\n",
            "Epoch 34/60\n",
            "60/60 [==============================] - 1s 20ms/step - loss: 0.1689 - accuracy: 0.9831 - val_loss: 0.4079 - val_accuracy: 0.8813\n",
            "Epoch 35/60\n",
            "60/60 [==============================] - 1s 20ms/step - loss: 0.1668 - accuracy: 0.9826 - val_loss: 0.3464 - val_accuracy: 0.9082\n",
            "Epoch 36/60\n",
            "60/60 [==============================] - 1s 20ms/step - loss: 0.1641 - accuracy: 0.9847 - val_loss: 0.3507 - val_accuracy: 0.9098\n",
            "Epoch 37/60\n",
            "60/60 [==============================] - 1s 20ms/step - loss: 0.1695 - accuracy: 0.9810 - val_loss: 0.5003 - val_accuracy: 0.8465\n",
            "Epoch 38/60\n",
            "60/60 [==============================] - 1s 19ms/step - loss: 0.1613 - accuracy: 0.9852 - val_loss: 0.3601 - val_accuracy: 0.9130\n",
            "Epoch 39/60\n",
            "60/60 [==============================] - 1s 20ms/step - loss: 0.1653 - accuracy: 0.9852 - val_loss: 0.5181 - val_accuracy: 0.8560\n",
            "Epoch 40/60\n",
            "60/60 [==============================] - 1s 20ms/step - loss: 0.1615 - accuracy: 0.9863 - val_loss: 0.3704 - val_accuracy: 0.9130\n",
            "Epoch 41/60\n",
            "60/60 [==============================] - 1s 20ms/step - loss: 0.1590 - accuracy: 0.9868 - val_loss: 0.7819 - val_accuracy: 0.6883\n",
            "Epoch 42/60\n",
            "60/60 [==============================] - 1s 20ms/step - loss: 0.1669 - accuracy: 0.9831 - val_loss: 0.7734 - val_accuracy: 0.7690\n",
            "Epoch 43/60\n",
            "60/60 [==============================] - 1s 20ms/step - loss: 0.1599 - accuracy: 0.9863 - val_loss: 0.4685 - val_accuracy: 0.8750\n",
            "Epoch 44/60\n",
            "60/60 [==============================] - 1s 20ms/step - loss: 0.1609 - accuracy: 0.9836 - val_loss: 0.3847 - val_accuracy: 0.8987\n",
            "Epoch 45/60\n",
            "60/60 [==============================] - 1s 20ms/step - loss: 0.1595 - accuracy: 0.9879 - val_loss: 1.6636 - val_accuracy: 0.6044\n",
            "Epoch 46/60\n",
            "60/60 [==============================] - 1s 20ms/step - loss: 0.1771 - accuracy: 0.9773 - val_loss: 0.3813 - val_accuracy: 0.8956\n",
            "Epoch 47/60\n",
            "60/60 [==============================] - 1s 20ms/step - loss: 0.1672 - accuracy: 0.9852 - val_loss: 0.3662 - val_accuracy: 0.9051\n",
            "Epoch 48/60\n",
            "60/60 [==============================] - 1s 20ms/step - loss: 0.1587 - accuracy: 0.9863 - val_loss: 0.3553 - val_accuracy: 0.9082\n",
            "Epoch 49/60\n",
            "60/60 [==============================] - 1s 20ms/step - loss: 0.1574 - accuracy: 0.9879 - val_loss: 0.3483 - val_accuracy: 0.9161\n",
            "Epoch 50/60\n",
            "60/60 [==============================] - 1s 20ms/step - loss: 0.1513 - accuracy: 0.9921 - val_loss: 0.4331 - val_accuracy: 0.8987\n",
            "Epoch 51/60\n",
            "60/60 [==============================] - 1s 20ms/step - loss: 0.1655 - accuracy: 0.9800 - val_loss: 0.3290 - val_accuracy: 0.9193\n",
            "Epoch 52/60\n",
            "60/60 [==============================] - 1s 20ms/step - loss: 0.1553 - accuracy: 0.9905 - val_loss: 0.4384 - val_accuracy: 0.8829\n",
            "Epoch 53/60\n",
            "60/60 [==============================] - 1s 20ms/step - loss: 0.1523 - accuracy: 0.9921 - val_loss: 0.6232 - val_accuracy: 0.8212\n",
            "Epoch 54/60\n",
            "60/60 [==============================] - 1s 19ms/step - loss: 0.1555 - accuracy: 0.9879 - val_loss: 0.4632 - val_accuracy: 0.8655\n",
            "Epoch 55/60\n",
            "60/60 [==============================] - 1s 20ms/step - loss: 0.1536 - accuracy: 0.9905 - val_loss: 0.3954 - val_accuracy: 0.9003\n",
            "Epoch 56/60\n",
            "60/60 [==============================] - 1s 20ms/step - loss: 0.1576 - accuracy: 0.9842 - val_loss: 0.3622 - val_accuracy: 0.9241\n",
            "Epoch 57/60\n",
            "60/60 [==============================] - 1s 20ms/step - loss: 0.1548 - accuracy: 0.9884 - val_loss: 0.4719 - val_accuracy: 0.8956\n",
            "Epoch 58/60\n",
            "60/60 [==============================] - 1s 20ms/step - loss: 0.1574 - accuracy: 0.9900 - val_loss: 1.4261 - val_accuracy: 0.6424\n",
            "Epoch 59/60\n",
            "60/60 [==============================] - 1s 20ms/step - loss: 0.1672 - accuracy: 0.9805 - val_loss: 0.4147 - val_accuracy: 0.8782\n",
            "Epoch 60/60\n",
            "60/60 [==============================] - 1s 20ms/step - loss: 0.1533 - accuracy: 0.9879 - val_loss: 0.3806 - val_accuracy: 0.9003\n"
          ],
          "name": "stdout"
        },
        {
          "output_type": "execute_result",
          "data": {
            "text/plain": [
              "<tensorflow.python.keras.callbacks.History at 0x7f3e7e114550>"
            ]
          },
          "metadata": {
            "tags": []
          },
          "execution_count": 42
        }
      ]
    },
    {
      "cell_type": "markdown",
      "metadata": {
        "id": "EDJdujcCi49V"
      },
      "source": [
        "Evaluating the train data:"
      ]
    },
    {
      "cell_type": "code",
      "metadata": {
        "id": "g-ncLkeOeIXa",
        "colab": {
          "base_uri": "https://localhost:8080/"
        },
        "outputId": "f941d6b4-357f-4fd9-d82d-431b89df917d"
      },
      "source": [
        "cnn_model.evaluate(x_train_n,y_train_h)"
      ],
      "execution_count": null,
      "outputs": [
        {
          "output_type": "stream",
          "text": [
            "60/60 [==============================] - 0s 7ms/step - loss: 0.1520 - accuracy: 0.9889\n"
          ],
          "name": "stdout"
        },
        {
          "output_type": "execute_result",
          "data": {
            "text/plain": [
              "[0.15197056531906128, 0.9889240264892578]"
            ]
          },
          "metadata": {
            "tags": []
          },
          "execution_count": 43
        }
      ]
    },
    {
      "cell_type": "markdown",
      "metadata": {
        "id": "Q6Axh62rdTlh"
      },
      "source": [
        "Evaluating Validation Data set"
      ]
    },
    {
      "cell_type": "code",
      "metadata": {
        "colab": {
          "base_uri": "https://localhost:8080/"
        },
        "id": "FX5G7WfqdTNK",
        "outputId": "cc08f13a-d2be-4372-9adb-4669c208b438"
      },
      "source": [
        "cnn_model.evaluate(xval_n,yval_h)"
      ],
      "execution_count": null,
      "outputs": [
        {
          "output_type": "stream",
          "text": [
            "20/20 [==============================] - 0s 8ms/step - loss: 0.3806 - accuracy: 0.9003\n"
          ],
          "name": "stdout"
        },
        {
          "output_type": "execute_result",
          "data": {
            "text/plain": [
              "[0.3806094229221344, 0.9003164768218994]"
            ]
          },
          "metadata": {
            "tags": []
          },
          "execution_count": 44
        }
      ]
    },
    {
      "cell_type": "markdown",
      "metadata": {
        "id": "zs0DIq61i820"
      },
      "source": [
        "Evaluating the test data:"
      ]
    },
    {
      "cell_type": "code",
      "metadata": {
        "id": "oKZDZknbi8ap",
        "colab": {
          "base_uri": "https://localhost:8080/"
        },
        "outputId": "ce143d76-088e-41b4-9087-1c0e8b1f529a"
      },
      "source": [
        "cnn_model.evaluate(xtest_n,ytest_h)"
      ],
      "execution_count": null,
      "outputs": [
        {
          "output_type": "stream",
          "text": [
            "20/20 [==============================] - 0s 9ms/step - loss: 0.3513 - accuracy: 0.9082\n"
          ],
          "name": "stdout"
        },
        {
          "output_type": "execute_result",
          "data": {
            "text/plain": [
              "[0.3513399064540863, 0.9082278609275818]"
            ]
          },
          "metadata": {
            "tags": []
          },
          "execution_count": 45
        }
      ]
    },
    {
      "cell_type": "markdown",
      "metadata": {
        "id": "3r1ksbkljJLC"
      },
      "source": [
        "Making predictions :"
      ]
    },
    {
      "cell_type": "code",
      "metadata": {
        "id": "rt8OE8XjjI4G"
      },
      "source": [
        "ytest_pred = []\n",
        "preds = cnn_model.predict(xtest_n)\n",
        "for p in preds:\n",
        "    ytest_pred.append(np.argmax(p))"
      ],
      "execution_count": null,
      "outputs": []
    },
    {
      "cell_type": "code",
      "metadata": {
        "colab": {
          "base_uri": "https://localhost:8080/"
        },
        "id": "rR3r_UwlQM6y",
        "outputId": "0fb902c1-b7d7-4ca9-a524-f3070046218e"
      },
      "source": [
        "from sklearn.metrics import confusion_matrix\n",
        "confusion_matrix(ytest,ytest_pred)"
      ],
      "execution_count": null,
      "outputs": [
        {
          "output_type": "execute_result",
          "data": {
            "text/plain": [
              "array([[145,  12,  11,  12],\n",
              "       [  6, 165,   7,   6],\n",
              "       [  0,   0, 178,   0],\n",
              "       [  0,   1,   3,  86]])"
            ]
          },
          "metadata": {
            "tags": []
          },
          "execution_count": 47
        }
      ]
    },
    {
      "cell_type": "code",
      "metadata": {
        "colab": {
          "base_uri": "https://localhost:8080/"
        },
        "id": "oYWGRkmRQPn2",
        "outputId": "b2ad1352-e64b-4fc4-b74e-27f6146e5ff6"
      },
      "source": [
        "x_train_n.shape"
      ],
      "execution_count": null,
      "outputs": [
        {
          "output_type": "execute_result",
          "data": {
            "text/plain": [
              "(1896, 70, 70, 3)"
            ]
          },
          "metadata": {
            "tags": []
          },
          "execution_count": 48
        }
      ]
    },
    {
      "cell_type": "code",
      "metadata": {
        "colab": {
          "base_uri": "https://localhost:8080/"
        },
        "id": "jY-1J_p6QpoW",
        "outputId": "2eee5ad3-21c4-4bbb-801b-b37bc28a87c3"
      },
      "source": [
        "xtest_n[90].shape"
      ],
      "execution_count": null,
      "outputs": [
        {
          "output_type": "execute_result",
          "data": {
            "text/plain": [
              "(70, 70, 3)"
            ]
          },
          "metadata": {
            "tags": []
          },
          "execution_count": 49
        }
      ]
    },
    {
      "cell_type": "code",
      "metadata": {
        "id": "EyCildhVQvAl"
      },
      "source": [
        "predictions = ['no_tumor', 'pituitary_tumor', 'meningioma_tumor', 'glioma_tumor']"
      ],
      "execution_count": null,
      "outputs": []
    },
    {
      "cell_type": "code",
      "metadata": {
        "colab": {
          "base_uri": "https://localhost:8080/",
          "height": 303
        },
        "id": "3q_eWkCxQwim",
        "outputId": "b061e9cd-fd2e-47bf-89fe-d3f06a7de19c"
      },
      "source": [
        "print('Predictions',predictions[np.argmax(cnn_model.predict(xtest_n[91].reshape(1,70,70,3)))])\n",
        "print('Actual',predictions[ytest[91]])\n",
        "\n",
        "\n",
        "import matplotlib.pyplot as plt\n",
        "plt.imshow(xtest_n[90])\n",
        "plt.show()"
      ],
      "execution_count": null,
      "outputs": [
        {
          "output_type": "stream",
          "text": [
            "Predictions meningioma_tumor\n",
            "Actual meningioma_tumor\n"
          ],
          "name": "stdout"
        },
        {
          "output_type": "display_data",
          "data": {
            "image/png": "[encoded data removed]",
            "text/plain": [
              "<Figure size 432x288 with 1 Axes>"
            ]
          },
          "metadata": {
            "tags": [],
            "needs_background": "light"
          }
        }
      ]
    },
    {
      "cell_type": "markdown",
      "metadata": {
        "id": "C9AXtazDl27o"
      },
      "source": [
        "Extracting features from the model for ML algorithm"
      ]
    },
    {
      "cell_type": "code",
      "metadata": {
        "id": "Jrg3WVknlAL1"
      },
      "source": [
        "X_for_ML = feature_extractor.predict(x_train_n)"
      ],
      "execution_count": null,
      "outputs": []
    },
    {
      "cell_type": "code",
      "metadata": {
        "colab": {
          "base_uri": "https://localhost:8080/"
        },
        "id": "jJQGOEURWd2a",
        "outputId": "7f76d420-005e-49d7-829a-ba02966bab10"
      },
      "source": [
        "x_train_n.shape"
      ],
      "execution_count": null,
      "outputs": [
        {
          "output_type": "execute_result",
          "data": {
            "text/plain": [
              "(1896, 70, 70, 3)"
            ]
          },
          "metadata": {
            "tags": []
          },
          "execution_count": 53
        }
      ]
    },
    {
      "cell_type": "code",
      "metadata": {
        "colab": {
          "base_uri": "https://localhost:8080/"
        },
        "id": "VUFrO0CiUhzW",
        "outputId": "7a7f1d5f-e3ba-4d80-f409-f61f8987bdda"
      },
      "source": [
        "X_for_ML.shape"
      ],
      "execution_count": null,
      "outputs": [
        {
          "output_type": "execute_result",
          "data": {
            "text/plain": [
              "(1896, 1024)"
            ]
          },
          "metadata": {
            "tags": []
          },
          "execution_count": 54
        }
      ]
    },
    {
      "cell_type": "code",
      "metadata": {
        "colab": {
          "base_uri": "https://localhost:8080/"
        },
        "id": "d5NtXMfHT0Dp",
        "outputId": "d7ca22a8-1fbb-4068-8ab6-df60a9f9f972"
      },
      "source": [
        "xtest_n.shape"
      ],
      "execution_count": null,
      "outputs": [
        {
          "output_type": "execute_result",
          "data": {
            "text/plain": [
              "(632, 70, 70, 3)"
            ]
          },
          "metadata": {
            "tags": []
          },
          "execution_count": 55
        }
      ]
    },
    {
      "cell_type": "code",
      "metadata": {
        "id": "gK606gNuanoh"
      },
      "source": [
        "x_test_n_2=[]\n",
        "x_test_n_2= xtest_n.reshape(632,70,70,3)"
      ],
      "execution_count": null,
      "outputs": []
    },
    {
      "cell_type": "markdown",
      "metadata": {
        "id": "tnLt1T2emdEO"
      },
      "source": [
        "Voting Ensemble for classification:"
      ]
    },
    {
      "cell_type": "code",
      "metadata": {
        "id": "P3NzqNiplFuZ",
        "colab": {
          "base_uri": "https://localhost:8080/"
        },
        "outputId": "c15be6cb-40be-4d22-d7e8-094e45a9d3aa"
      },
      "source": [
        "import pandas\n",
        "from sklearn import model_selection\n",
        "from sklearn.neighbors import KNeighborsClassifier\n",
        "from sklearn.ensemble import RandomForestClassifier\n",
        "\n",
        "from sklearn.naive_bayes import GaussianNB\n",
        "from sklearn.ensemble import VotingClassifier\n",
        "from sklearn.metrics import accuracy_score\n",
        "from sklearn.model_selection import cross_val_score\n",
        "from sklearn.ensemble import GradientBoostingClassifier\n",
        "from xgboost import XGBClassifier\n",
        "from sklearn.tree import DecisionTreeClassifier\n",
        "from sklearn.svm import SVC\n",
        "\n",
        "model_1 = RandomForestClassifier(n_estimators = 50, random_state =42)\n",
        "\n",
        "\n",
        "model_2 = KNeighborsClassifier()\n",
        "\n",
        "\n",
        "model_3 = GaussianNB()\n",
        "\n",
        "\n",
        "model_4 = XGBClassifier()\n",
        "\n",
        "model_5 = GradientBoostingClassifier()\n",
        "\n",
        "model_6 = SVC()\n",
        "\n",
        "\n",
        "model = VotingClassifier(\n",
        "     estimators=[('rf',model_1 ), ('knn', model_2), ('gnb', model_3),('xgb', model_4),('gb',model_5),('svc',model_6)],\n",
        "     voting='hard')\n",
        "\n",
        "model.fit(X_for_ML, y_train)\n",
        "\n",
        "\n",
        "X_test_feature = feature_extractor.predict(x_test_n_2)\n",
        "prediction_ML = model.predict(X_test_feature)\n",
        "\n",
        "\n",
        "\n",
        "for model, label in zip([model_1, model_2, model_3, model_4,model_5,model_6], ['RandomForestClassifier', 'KNeighborsClassifier', 'GaussianNB', 'XGBoost',\n",
        "                                                                               'GradientBoostingClassifier','SVC']):\n",
        "     \n",
        "     scores = cross_val_score(model, X_test_feature,ytest, scoring='accuracy', cv=5)\n",
        "     print(scores.mean(), scores.std(), label)\n"
      ],
      "execution_count": null,
      "outputs": [
        {
          "output_type": "stream",
          "text": [
            "0.9271716035495563 0.03451614137445109 RandomForestClassifier\n",
            "0.8939132608423946 0.04285463689997174 KNeighborsClassifier\n",
            "0.8970753655793026 0.04298481473212822 GaussianNB\n",
            "0.9224471941007375 0.022139104709816608 XGBoost\n",
            "0.912935883014623 0.02565824240595042 GradientBoostingClassifier\n",
            "0.9271591051118611 0.036022713435464926 SVC\n"
          ],
          "name": "stdout"
        }
      ]
    },
    {
      "cell_type": "markdown",
      "metadata": {
        "id": "WaVUFJ2nddUA"
      },
      "source": [
        "Accuracy, Precision, F1 score and Recall of Ensemble"
      ]
    },
    {
      "cell_type": "code",
      "metadata": {
        "colab": {
          "base_uri": "https://localhost:8080/"
        },
        "id": "KA_ArEYsXdz8",
        "outputId": "792727c8-cf89-425b-e413-01d2779c1fa6"
      },
      "source": [
        "from sklearn.metrics import accuracy_score\n",
        "from sklearn.metrics import precision_score\n",
        "from sklearn.metrics import recall_score\n",
        "from sklearn.metrics import f1_score\n",
        "from sklearn.metrics import roc_auc_score\n",
        "from sklearn.metrics import confusion_matrix\n",
        "accuracy_m = accuracy_score(ytest,prediction_ML)\n",
        "print(accuracy)\n",
        "precision_m = precision_score(ytest,prediction_ML,average=None)\n",
        "print(precision_m)\n",
        "recall_m = recall_score(ytest,prediction_ML,average=None)\n",
        "print(recall_m)\n",
        "f1_m = f1_score(ytest,prediction_ML,average=None)\n",
        "print( f1_m)\n",
        "confusion_matrix(ytest,prediction_ML)"
      ],
      "execution_count": null,
      "outputs": [
        {
          "output_type": "stream",
          "text": [
            "0.9256329113924051\n",
            "[0.93413174 0.86567164 0.98285714 0.93258427]\n",
            "[0.86666667 0.94565217 0.96629213 0.92222222]\n",
            "[0.89913545 0.9038961  0.97450425 0.9273743 ]\n"
          ],
          "name": "stdout"
        },
        {
          "output_type": "execute_result",
          "data": {
            "text/plain": [
              "array([[156,  21,   0,   3],\n",
              "       [  4, 174,   3,   3],\n",
              "       [  1,   5, 172,   0],\n",
              "       [  6,   1,   0,  83]])"
            ]
          },
          "metadata": {
            "tags": []
          },
          "execution_count": 66
        }
      ]
    },
    {
      "cell_type": "code",
      "metadata": {
        "colab": {
          "base_uri": "https://localhost:8080/"
        },
        "id": "uChKPO88tppA",
        "outputId": "d54d3904-0469-4b3f-fc0f-7a693060d22f"
      },
      "source": [
        "print(precision_m.mean())\n",
        "print(recall_m.mean())\n",
        "print(recall_m.mean())\n",
        "print(f1_m.mean())"
      ],
      "execution_count": null,
      "outputs": [
        {
          "output_type": "stream",
          "text": [
            "0.9288111977095138\n",
            "0.9252082994083484\n",
            "0.9252082994083484\n",
            "0.9262275253874364\n"
          ],
          "name": "stdout"
        }
      ]
    },
    {
      "cell_type": "markdown",
      "metadata": {
        "id": "CjHIvGt8dUOZ"
      },
      "source": [
        "Accuracy, Precision, recall, F1 score of CNN"
      ]
    },
    {
      "cell_type": "code",
      "metadata": {
        "colab": {
          "base_uri": "https://localhost:8080/"
        },
        "id": "1A2pl8FLUcad",
        "outputId": "1c3f4edf-0da4-4f34-d2f7-649b83a1c82e"
      },
      "source": [
        "from sklearn.metrics import accuracy_score\n",
        "from sklearn.metrics import precision_score\n",
        "from sklearn.metrics import recall_score\n",
        "from sklearn.metrics import f1_score\n",
        "from sklearn.metrics import roc_auc_score\n",
        "from sklearn.metrics import confusion_matrix\n",
        "accuracy = accuracy_score(ytest,ytest_pred)\n",
        "print(accuracy)\n",
        "# precision tp / (tp + fp)\n",
        "precision_c = precision_score(ytest,ytest_pred,average=None)\n",
        "print(precision_c)\n",
        "# recall: tp / (tp + fn)\n",
        "recall_c = recall_score(ytest,ytest_pred,average=None)\n",
        "print(recall_c)\n",
        "# f1: 2 tp / (2 tp + fp + fn)\n",
        "f1_c = f1_score(ytest,ytest_pred,average=None)\n",
        "print( f1_c)\n",
        "confusion_matrix(ytest,ytest_pred)"
      ],
      "execution_count": null,
      "outputs": [
        {
          "output_type": "stream",
          "text": [
            "0.9082278481012658\n",
            "[0.9602649  0.92696629 0.89447236 0.82692308]\n",
            "[0.80555556 0.89673913 1.         0.95555556]\n",
            "[0.87613293 0.91160221 0.94429708 0.88659794]\n"
          ],
          "name": "stdout"
        },
        {
          "output_type": "execute_result",
          "data": {
            "text/plain": [
              "array([[145,  12,  11,  12],\n",
              "       [  6, 165,   7,   6],\n",
              "       [  0,   0, 178,   0],\n",
              "       [  0,   1,   3,  86]])"
            ]
          },
          "metadata": {
            "tags": []
          },
          "execution_count": 72
        }
      ]
    },
    {
      "cell_type": "code",
      "metadata": {
        "colab": {
          "base_uri": "https://localhost:8080/"
        },
        "id": "Pnz9nJdlp-GK",
        "outputId": "24628896-3e06-440c-aacd-d167022354a9"
      },
      "source": [
        "print(precision_c.mean())\n",
        "print(recall_c.mean())\n",
        "print(recall_c.mean())\n",
        "print(f1_c.mean())"
      ],
      "execution_count": null,
      "outputs": [
        {
          "output_type": "stream",
          "text": [
            "0.9021566578823013\n",
            "0.9144625603864734\n",
            "0.9144625603864734\n",
            "0.9046575402076983\n"
          ],
          "name": "stdout"
        }
      ]
    }
  ]
}